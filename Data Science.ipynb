{
 "cells": [
  {
   "cell_type": "markdown",
   "id": "c6395c11",
   "metadata": {},
   "source": [
    "# Python For Data Science"
   ]
  },
  {
   "cell_type": "code",
   "execution_count": 3,
   "id": "cbda9a8a",
   "metadata": {},
   "outputs": [
    {
     "name": "stdout",
     "output_type": "stream",
     "text": [
      "five is greater than two\n"
     ]
    }
   ],
   "source": [
    "if 5>2:\n",
    " print(\"five is greater than two\")"
   ]
  },
  {
   "cell_type": "code",
   "execution_count": 4,
   "id": "d799b681",
   "metadata": {},
   "outputs": [
    {
     "name": "stdout",
     "output_type": "stream",
     "text": [
      "hello world\n"
     ]
    }
   ],
   "source": [
    "print(\"hello world\")"
   ]
  },
  {
   "cell_type": "markdown",
   "id": "89faecdc",
   "metadata": {},
   "source": [
    "### write a program that initialises two real numbers and computes their sum, difference, product and qoutient"
   ]
  },
  {
   "cell_type": "code",
   "execution_count": 11,
   "id": "858523f4",
   "metadata": {},
   "outputs": [
    {
     "name": "stdout",
     "output_type": "stream",
     "text": [
      "The sum of the two number is: 25\n",
      "the difference of the two numbers is: -1\n",
      "the product is : 156\n",
      " quoentient is: 12\n"
     ]
    }
   ],
   "source": [
    "num1 = 12\n",
    "num2 = 13\n",
    "\n",
    "add_sum = num1 + num2\n",
    "print(\"The sum of the two number is:\",add_sum)\n",
    "diff = num1 - num2\n",
    "print(\"the difference of the two numbers is:\", diff)\n",
    "product = num1 * num2\n",
    "print(\"the product is :\", product)\n",
    "print(\" quoentient is:\", num1%num2)\n"
   ]
  },
  {
   "cell_type": "markdown",
   "id": "9baf4767",
   "metadata": {},
   "source": [
    "### write a program that initializes the length and width of a rectangle with integer "
   ]
  },
  {
   "cell_type": "code",
   "execution_count": 12,
   "id": "a1357629",
   "metadata": {},
   "outputs": [
    {
     "name": "stdout",
     "output_type": "stream",
     "text": [
      " the area is: 48\n",
      " the perimeter is: 16\n"
     ]
    }
   ],
   "source": [
    "length = 12\n",
    "width = 4\n",
    "print(\" the area is:\", length*width)\n",
    "print(\" the perimeter is:\", length+width)"
   ]
  },
  {
   "cell_type": "markdown",
   "id": "b709d4c1",
   "metadata": {},
   "source": [
    "### Grading system"
   ]
  },
  {
   "cell_type": "code",
   "execution_count": 15,
   "id": "06d98b1f",
   "metadata": {},
   "outputs": [
    {
     "name": "stdout",
     "output_type": "stream",
     "text": [
      "Enter marks: 75\n",
      "Grade A\n"
     ]
    }
   ],
   "source": [
    "marks = int(input(\"Enter marks: \"))\n",
    "if  marks >=70 and marks<=100:\n",
    "    print(\"Grade A\")\n",
    "elif marks >=60 and marks <70:\n",
    "    print(\"Grade B\")\n",
    "elif marks >=50 and marks <60:\n",
    "    print(\"Grade C\")\n",
    "elif marks >=40 and marks <50:\n",
    "    print(\"Grade D\")\n",
    "elif marks >40:\n",
    "    print(\"Grade F\")\n",
    "else:\n",
    "    \n",
    "    print(\"invalid\")\n"
   ]
  },
  {
   "cell_type": "code",
   "execution_count": null,
   "id": "7eb58d1f",
   "metadata": {},
   "outputs": [],
   "source": []
  }
 ],
 "metadata": {
  "kernelspec": {
   "display_name": "Python 3 (ipykernel)",
   "language": "python",
   "name": "python3"
  },
  "language_info": {
   "codemirror_mode": {
    "name": "ipython",
    "version": 3
   },
   "file_extension": ".py",
   "mimetype": "text/x-python",
   "name": "python",
   "nbconvert_exporter": "python",
   "pygments_lexer": "ipython3",
   "version": "3.9.12"
  }
 },
 "nbformat": 4,
 "nbformat_minor": 5
}
