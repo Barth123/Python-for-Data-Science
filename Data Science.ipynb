{
 "cells": [
  {
   "cell_type": "markdown",
   "id": "c6395c11",
   "metadata": {},
   "source": [
    "# Python For Data Science"
   ]
  },
  {
   "cell_type": "code",
   "execution_count": 1,
   "id": "cbda9a8a",
   "metadata": {},
   "outputs": [
    {
     "name": "stdout",
     "output_type": "stream",
     "text": [
      "five is greater than two\n"
     ]
    }
   ],
   "source": [
    "if 5>2:\n",
    " print(\"five is greater than two\")\n"
   ]
  },
  {
   "cell_type": "code",
   "execution_count": 2,
   "id": "d799b681",
   "metadata": {},
   "outputs": [
    {
     "name": "stdout",
     "output_type": "stream",
     "text": [
      "hello world\n"
     ]
    }
   ],
   "source": [
    "print(\"hello world\")"
   ]
  },
  {
   "cell_type": "markdown",
   "id": "89faecdc",
   "metadata": {},
   "source": [
    "### write a program that initialises two real numbers and computes their sum, difference, product and qoutient"
   ]
  },
  {
   "cell_type": "code",
   "execution_count": 3,
   "id": "858523f4",
   "metadata": {},
   "outputs": [
    {
     "name": "stdout",
     "output_type": "stream",
     "text": [
      "The sum of the two number is: 25\n",
      "the difference of the two numbers is: -1\n",
      "the product is : 156\n",
      " quoentient is: 12\n"
     ]
    }
   ],
   "source": [
    "num1 = 12\n",
    "num2 = 13\n",
    "\n",
    "add_sum = num1 + num2\n",
    "print(\"The sum of the two number is:\",add_sum)\n",
    "diff = num1 - num2\n",
    "print(\"the difference of the two numbers is:\", diff)\n",
    "product = num1 * num2\n",
    "print(\"the product is :\", product)\n",
    "print(\" quoentient is:\", num1%num2)\n"
   ]
  },
  {
   "cell_type": "markdown",
   "id": "9baf4767",
   "metadata": {},
   "source": [
    "### write a program that initializes the length and width of a rectangle with integer "
   ]
  },
  {
   "cell_type": "code",
   "execution_count": 4,
   "id": "a1357629",
   "metadata": {},
   "outputs": [
    {
     "name": "stdout",
     "output_type": "stream",
     "text": [
      " the area is: 48\n",
      " the perimeter is: 16\n"
     ]
    }
   ],
   "source": [
    "length = 12\n",
    "width = 4\n",
    "print(\" the area is:\", length*width)\n",
    "print(\" the perimeter is:\", length+width)"
   ]
  },
  {
   "cell_type": "markdown",
   "id": "b709d4c1",
   "metadata": {},
   "source": [
    "### Grading system"
   ]
  },
  {
   "cell_type": "code",
   "execution_count": 6,
   "id": "06d98b1f",
   "metadata": {},
   "outputs": [
    {
     "name": "stdout",
     "output_type": "stream",
     "text": [
      "Enter marks: 35\n",
      "invalid\n"
     ]
    }
   ],
   "source": [
    "marks = int(input(\"Enter marks: \"))\n",
    "if  marks >=70 and marks<=100:\n",
    "    print(\"Grade A\")\n",
    "elif marks >=60 and marks <70:\n",
    "    print(\"Grade B\")\n",
    "elif marks >=50 and marks <60:\n",
    "    print(\"Grade C\")\n",
    "elif marks >=40 and marks <50:\n",
    "    print(\"Grade D\")\n",
    "elif marks >40:\n",
    "    print(\"Grade F\")\n",
    "else:\n",
    "    \n",
    "    print(\"invalid\")\n"
   ]
  },
  {
   "cell_type": "markdown",
   "id": "a4aea37a",
   "metadata": {},
   "source": [
    "### The data below show the height in feet’ and inches’’ of 5 pupils in grade 5.height=[3.6, 3.9,4.0,3.4,4.1]Required:write a program that:i. Initializes a python list/array called height with the values aboveii. Displays the height of every pupil (hint -use for ..in construct)iii. Computes and displays the average height of the pupilsiv. Adds the height of a sixth pupil into the array called height (use append())v. Removes the height of the last pupil in the array (hint (use pop method)"
   ]
  },
  {
   "cell_type": "code",
   "execution_count": 7,
   "id": "da748b4b",
   "metadata": {},
   "outputs": [
    {
     "name": "stdout",
     "output_type": "stream",
     "text": [
      "The height of every pupil:\n",
      "3.6\n",
      "3.9\n",
      "4.0\n",
      "3.4\n",
      "4.1\n",
      "\n",
      "averageheight:\n",
      "3.8\n",
      "\n",
      "Height after adding the sixth pupil:\n",
      "3.6\n",
      "3.9\n",
      "4.0\n",
      "3.4\n",
      "4.1\n",
      "3.8\n",
      "\n",
      "height after removing the last pupil:\n",
      "3.6\n",
      "3.9\n",
      "4.0\n",
      "3.4\n",
      "4.1\n"
     ]
    }
   ],
   "source": [
    "#initialise a list/array\n",
    "height = [3.6, 3.9, 4.0, 3.4, 4.1]\n",
    "\n",
    "#display of height for every pupil\n",
    "print(\"The height of every pupil:\")\n",
    "for h in height:\n",
    "    print(h)\n",
    "    \n",
    "#the average height of the pupils\n",
    "averageheight = sum(height)/len(height)\n",
    "print(\"\\naverageheight:\")\n",
    "print(averageheight)\n",
    "\n",
    "#add the sixth pupil\n",
    "height.append(3.8)\n",
    "print(\"\\nHeight after adding the sixth pupil:\")\n",
    "for h in height:\n",
    "    print(h)\n",
    "    \n",
    "#removing the height of the lastpupil use of pop()\n",
    "height.pop()\n",
    "print(\"\\nheight after removing the last pupil:\")\n",
    "for h in height:\n",
    "    print(h)\n"
   ]
  },
  {
   "cell_type": "code",
   "execution_count": 9,
   "id": "860327a2",
   "metadata": {},
   "outputs": [
    {
     "name": "stderr",
     "output_type": "stream",
     "text": [
      "Matplotlib is building the font cache; this may take a moment.\n"
     ]
    },
    {
     "ename": "ValueError",
     "evalue": "all the input array dimensions for the concatenation axis must match exactly, but along dimension 1, the array at index 0 has size 12 and the array at index 1 has size 13",
     "output_type": "error",
     "traceback": [
      "\u001b[1;31m---------------------------------------------------------------------------\u001b[0m",
      "\u001b[1;31mValueError\u001b[0m                                Traceback (most recent call last)",
      "Input \u001b[1;32mIn [9]\u001b[0m, in \u001b[0;36m<cell line: 5>\u001b[1;34m()\u001b[0m\n\u001b[0;32m      3\u001b[0m x \u001b[38;5;241m=\u001b[39m [\u001b[38;5;241m5\u001b[39m,\u001b[38;5;241m7\u001b[39m,\u001b[38;5;241m8\u001b[39m,\u001b[38;5;241m2\u001b[39m,\u001b[38;5;241m17\u001b[39m,\u001b[38;5;241m2\u001b[39m,\u001b[38;5;241m9\u001b[39m,\u001b[38;5;241m4\u001b[39m,\u001b[38;5;241m11\u001b[39m,\u001b[38;5;241m12\u001b[39m,\u001b[38;5;241m9\u001b[39m,\u001b[38;5;241m6\u001b[39m]\n\u001b[0;32m      4\u001b[0m y \u001b[38;5;241m=\u001b[39m [\u001b[38;5;241m99\u001b[39m,\u001b[38;5;241m86\u001b[39m,\u001b[38;5;241m87\u001b[39m,\u001b[38;5;241m88\u001b[39m,\u001b[38;5;241m111\u001b[39m,\u001b[38;5;241m86\u001b[39m,\u001b[38;5;241m103\u001b[39m,\u001b[38;5;241m87\u001b[39m,\u001b[38;5;241m94\u001b[39m,\u001b[38;5;241m78\u001b[39m,\u001b[38;5;241m77\u001b[39m,\u001b[38;5;241m85\u001b[39m,\u001b[38;5;241m86\u001b[39m]\n\u001b[1;32m----> 5\u001b[0m slope, intercept, r, p, std_err \u001b[38;5;241m=\u001b[39m \u001b[43mstats\u001b[49m\u001b[38;5;241;43m.\u001b[39;49m\u001b[43mlinregress\u001b[49m\u001b[43m(\u001b[49m\u001b[43mx\u001b[49m\u001b[43m,\u001b[49m\u001b[43m \u001b[49m\u001b[43my\u001b[49m\u001b[43m)\u001b[49m\n\u001b[0;32m      6\u001b[0m \u001b[38;5;28;01mdef\u001b[39;00m \u001b[38;5;21mmyfunc\u001b[39m(x):\n\u001b[0;32m      7\u001b[0m  \u001b[38;5;28;01mreturn\u001b[39;00m slope \u001b[38;5;241m*\u001b[39m x \u001b[38;5;241m+\u001b[39m intercept\n",
      "File \u001b[1;32m~\\anaconda3\\lib\\site-packages\\scipy\\stats\\_stats_mstats_common.py:155\u001b[0m, in \u001b[0;36mlinregress\u001b[1;34m(x, y, alternative)\u001b[0m\n\u001b[0;32m    150\u001b[0m ymean \u001b[38;5;241m=\u001b[39m np\u001b[38;5;241m.\u001b[39mmean(y, \u001b[38;5;28;01mNone\u001b[39;00m)\n\u001b[0;32m    152\u001b[0m \u001b[38;5;66;03m# Average sums of square differences from the mean\u001b[39;00m\n\u001b[0;32m    153\u001b[0m \u001b[38;5;66;03m#   ssxm = mean( (x-mean(x))^2 )\u001b[39;00m\n\u001b[0;32m    154\u001b[0m \u001b[38;5;66;03m#   ssxym = mean( (x-mean(x)) * (y-mean(y)) )\u001b[39;00m\n\u001b[1;32m--> 155\u001b[0m ssxm, ssxym, _, ssym \u001b[38;5;241m=\u001b[39m \u001b[43mnp\u001b[49m\u001b[38;5;241;43m.\u001b[39;49m\u001b[43mcov\u001b[49m\u001b[43m(\u001b[49m\u001b[43mx\u001b[49m\u001b[43m,\u001b[49m\u001b[43m \u001b[49m\u001b[43my\u001b[49m\u001b[43m,\u001b[49m\u001b[43m \u001b[49m\u001b[43mbias\u001b[49m\u001b[38;5;241;43m=\u001b[39;49m\u001b[38;5;241;43m1\u001b[39;49m\u001b[43m)\u001b[49m\u001b[38;5;241m.\u001b[39mflat\n\u001b[0;32m    157\u001b[0m \u001b[38;5;66;03m# R-value\u001b[39;00m\n\u001b[0;32m    158\u001b[0m \u001b[38;5;66;03m#   r = ssxym / sqrt( ssxm * ssym )\u001b[39;00m\n\u001b[0;32m    159\u001b[0m \u001b[38;5;28;01mif\u001b[39;00m ssxm \u001b[38;5;241m==\u001b[39m \u001b[38;5;241m0.0\u001b[39m \u001b[38;5;129;01mor\u001b[39;00m ssym \u001b[38;5;241m==\u001b[39m \u001b[38;5;241m0.0\u001b[39m:\n\u001b[0;32m    160\u001b[0m     \u001b[38;5;66;03m# If the denominator was going to be 0\u001b[39;00m\n",
      "File \u001b[1;32m<__array_function__ internals>:5\u001b[0m, in \u001b[0;36mcov\u001b[1;34m(*args, **kwargs)\u001b[0m\n",
      "File \u001b[1;32m~\\anaconda3\\lib\\site-packages\\numpy\\lib\\function_base.py:2477\u001b[0m, in \u001b[0;36mcov\u001b[1;34m(m, y, rowvar, bias, ddof, fweights, aweights, dtype)\u001b[0m\n\u001b[0;32m   2475\u001b[0m     \u001b[38;5;28;01mif\u001b[39;00m \u001b[38;5;129;01mnot\u001b[39;00m rowvar \u001b[38;5;129;01mand\u001b[39;00m y\u001b[38;5;241m.\u001b[39mshape[\u001b[38;5;241m0\u001b[39m] \u001b[38;5;241m!=\u001b[39m \u001b[38;5;241m1\u001b[39m:\n\u001b[0;32m   2476\u001b[0m         y \u001b[38;5;241m=\u001b[39m y\u001b[38;5;241m.\u001b[39mT\n\u001b[1;32m-> 2477\u001b[0m     X \u001b[38;5;241m=\u001b[39m \u001b[43mnp\u001b[49m\u001b[38;5;241;43m.\u001b[39;49m\u001b[43mconcatenate\u001b[49m\u001b[43m(\u001b[49m\u001b[43m(\u001b[49m\u001b[43mX\u001b[49m\u001b[43m,\u001b[49m\u001b[43m \u001b[49m\u001b[43my\u001b[49m\u001b[43m)\u001b[49m\u001b[43m,\u001b[49m\u001b[43m \u001b[49m\u001b[43maxis\u001b[49m\u001b[38;5;241;43m=\u001b[39;49m\u001b[38;5;241;43m0\u001b[39;49m\u001b[43m)\u001b[49m\n\u001b[0;32m   2479\u001b[0m \u001b[38;5;28;01mif\u001b[39;00m ddof \u001b[38;5;129;01mis\u001b[39;00m \u001b[38;5;28;01mNone\u001b[39;00m:\n\u001b[0;32m   2480\u001b[0m     \u001b[38;5;28;01mif\u001b[39;00m bias \u001b[38;5;241m==\u001b[39m \u001b[38;5;241m0\u001b[39m:\n",
      "File \u001b[1;32m<__array_function__ internals>:5\u001b[0m, in \u001b[0;36mconcatenate\u001b[1;34m(*args, **kwargs)\u001b[0m\n",
      "\u001b[1;31mValueError\u001b[0m: all the input array dimensions for the concatenation axis must match exactly, but along dimension 1, the array at index 0 has size 12 and the array at index 1 has size 13"
     ]
    }
   ],
   "source": [
    "import matplotlib.pyplot as plt\n",
    "from scipy import stats\n",
    "x = [5,7,8,2,17,2,9,4,11,12,9,6]\n",
    "y = [99,86,87,88,111,86,103,87,94,78,77,85,86]\n",
    "slope, intercept, r, p, std_err = stats.linregress(x, y)\n",
    "def myfunc(x):\n",
    " return slope * x + intercept\n",
    "mymodel = list(map(myfunc, x))\n",
    "plt.scatter(x, y)\n",
    "\n",
    "\n"
   ]
  },
  {
   "cell_type": "code",
   "execution_count": 10,
   "id": "b4f5ae78",
   "metadata": {},
   "outputs": [
    {
     "data": {
      "text/plain": [
       "<function matplotlib.pyplot.show(close=None, block=None)>"
      ]
     },
     "execution_count": 10,
     "metadata": {},
     "output_type": "execute_result"
    },
    {
     "data": {
      "image/png": "[encoded data removed]",
      "text/plain": [
       "<Figure size 432x288 with 1 Axes>"
      ]
     },
     "metadata": {
      "needs_background": "light"
     },
     "output_type": "display_data"
    }
   ],
   "source": [
    "import matplotlib.pyplot as plt\n",
    "x = [5,7,8,7,2,17,2,9,4,11,12,9,6]\n",
    "y = [99,86,87,88,111,86,103,87,94,78,77,85,86]\n",
    "plt.scatter(x, y)\n",
    "plt.show"
   ]
  },
  {
   "cell_type": "code",
   "execution_count": 11,
   "id": "16764c02",
   "metadata": {},
   "outputs": [
    {
     "data": {
      "image/png": "[encoded data removed]",
      "text/plain": [
       "<Figure size 432x288 with 1 Axes>"
      ]
     },
     "metadata": {
      "needs_background": "light"
     },
     "output_type": "display_data"
    }
   ],
   "source": [
    "import matplotlib.pyplot as plt\n",
    "from scipy import stats\n",
    "x = [5,7,8,7,2,17,2,9,4,11,12,9,6]\n",
    "y = [99,86,87,88,111,86,103,87,94,78,77,85,86]\n",
    "slope, intercept, r, p, std_err = stats.linregress(x, y)\n",
    "def myfunc(x):\n",
    " return slope * x + intercept\n",
    "mymodel = list(map(myfunc, x))\n",
    "plt.scatter(x, y)\n",
    "plt.plot(x, mymodel)\n",
    "plt.show()"
   ]
  },
  {
   "cell_type": "code",
   "execution_count": 4,
   "id": "0b7634aa",
   "metadata": {},
   "outputs": [
    {
     "data": {
      "image/png": "[encoded data removed]",
      "text/plain": [
       "<Figure size 720x432 with 1 Axes>"
      ]
     },
     "metadata": {},
     "output_type": "display_data"
    }
   ],
   "source": [
    "import networkx as nx\n",
    "import matplotlib.pyplot as plt\n",
    "\n",
    "# Define activities, durations, and dependencies for the activity network\n",
    "activities = {\n",
    "    \"A\": {\"duration\": 2, \"depends_on\": [], \"resource\": \"SA\"},\n",
    "    \"B\": {\"duration\": 10, \"depends_on\": [\"A\"], \"resource\": \"SD\"},\n",
    "    \"C\": {\"duration\": 2, \"depends_on\": [\"A\"], \"resource\": \"SD\"},\n",
    "    \"D\": {\"duration\": 2, \"depends_on\": [\"C\"], \"resource\": \"SC\"},\n",
    "    \"E\": {\"duration\": 3, \"depends_on\": [\"C\"], \"resource\": \"SC\"},\n",
    "    \"F\": {\"duration\": 2, \"depends_on\": [\"C\"], \"resource\": \"SC\"},\n",
    "    \"G\": {\"duration\": 4, \"depends_on\": [\"B\", \"D\", \"E\", \"F\"], \"resource\": \"SA\"}\n",
    "}\n",
    "\n",
    "# Create the directed graph for the network\n",
    "activity_network = nx.DiGraph()\n",
    "\n",
    "# Add nodes and edges to the network\n",
    "for activity, details in activities.items():\n",
    "    # Add each activity as a node with its duration as an attribute\n",
    "    activity_network.add_node(activity, duration=details[\"duration\"])\n",
    "    # Add dependencies as directed edges\n",
    "    for dependency in details[\"depends_on\"]:\n",
    "        activity_network.add_edge(dependency, activity)\n",
    "\n",
    "# Plot the activity network\n",
    "plt.figure(figsize=(10, 6))\n",
    "pos = nx.planar_layout(activity_network)\n",
    "nx.draw(activity_network, pos, with_labels=True, node_size=2000, node_color=\"lightblue\", font_size=12, font_weight=\"bold\")\n",
    "nx.draw_networkx_edge_labels(activity_network, pos, edge_labels={(u, v): \"\" for u, v in activity_network.edges()})\n",
    "plt.title(\"Activity Network Diagram\")\n",
    "plt.show()\n"
   ]
  },
  {
   "cell_type": "code",
   "execution_count": null,
   "id": "a9f11550",
   "metadata": {},
   "outputs": [],
   "source": []
  },
  {
   "cell_type": "code",
   "execution_count": 5,
   "id": "6e7fb977",
   "metadata": {},
   "outputs": [
    {
     "data": {
      "text/html": [
       "<div>\n",
       "<style scoped>\n",
       "    .dataframe tbody tr th:only-of-type {\n",
       "        vertical-align: middle;\n",
       "    }\n",
       "\n",
       "    .dataframe tbody tr th {\n",
       "        vertical-align: top;\n",
       "    }\n",
       "\n",
       "    .dataframe thead th {\n",
       "        text-align: right;\n",
       "    }\n",
       "</style>\n",
       "<table border=\"1\" class=\"dataframe\">\n",
       "  <thead>\n",
       "    <tr style=\"text-align: right;\">\n",
       "      <th></th>\n",
       "      <th>SA</th>\n",
       "      <th>SD</th>\n",
       "      <th>SC</th>\n",
       "    </tr>\n",
       "  </thead>\n",
       "  <tbody>\n",
       "    <tr>\n",
       "      <th>1</th>\n",
       "      <td>1</td>\n",
       "      <td>0</td>\n",
       "      <td>0</td>\n",
       "    </tr>\n",
       "    <tr>\n",
       "      <th>2</th>\n",
       "      <td>1</td>\n",
       "      <td>0</td>\n",
       "      <td>0</td>\n",
       "    </tr>\n",
       "    <tr>\n",
       "      <th>3</th>\n",
       "      <td>0</td>\n",
       "      <td>1</td>\n",
       "      <td>0</td>\n",
       "    </tr>\n",
       "    <tr>\n",
       "      <th>4</th>\n",
       "      <td>0</td>\n",
       "      <td>1</td>\n",
       "      <td>0</td>\n",
       "    </tr>\n",
       "    <tr>\n",
       "      <th>5</th>\n",
       "      <td>0</td>\n",
       "      <td>1</td>\n",
       "      <td>0</td>\n",
       "    </tr>\n",
       "    <tr>\n",
       "      <th>6</th>\n",
       "      <td>0</td>\n",
       "      <td>1</td>\n",
       "      <td>0</td>\n",
       "    </tr>\n",
       "    <tr>\n",
       "      <th>7</th>\n",
       "      <td>0</td>\n",
       "      <td>1</td>\n",
       "      <td>0</td>\n",
       "    </tr>\n",
       "    <tr>\n",
       "      <th>8</th>\n",
       "      <td>0</td>\n",
       "      <td>1</td>\n",
       "      <td>0</td>\n",
       "    </tr>\n",
       "    <tr>\n",
       "      <th>9</th>\n",
       "      <td>0</td>\n",
       "      <td>1</td>\n",
       "      <td>0</td>\n",
       "    </tr>\n",
       "    <tr>\n",
       "      <th>10</th>\n",
       "      <td>0</td>\n",
       "      <td>1</td>\n",
       "      <td>0</td>\n",
       "    </tr>\n",
       "    <tr>\n",
       "      <th>11</th>\n",
       "      <td>0</td>\n",
       "      <td>1</td>\n",
       "      <td>0</td>\n",
       "    </tr>\n",
       "    <tr>\n",
       "      <th>12</th>\n",
       "      <td>0</td>\n",
       "      <td>1</td>\n",
       "      <td>0</td>\n",
       "    </tr>\n",
       "    <tr>\n",
       "      <th>13</th>\n",
       "      <td>0</td>\n",
       "      <td>1</td>\n",
       "      <td>0</td>\n",
       "    </tr>\n",
       "    <tr>\n",
       "      <th>14</th>\n",
       "      <td>0</td>\n",
       "      <td>1</td>\n",
       "      <td>0</td>\n",
       "    </tr>\n",
       "    <tr>\n",
       "      <th>15</th>\n",
       "      <td>1</td>\n",
       "      <td>0</td>\n",
       "      <td>3</td>\n",
       "    </tr>\n",
       "    <tr>\n",
       "      <th>16</th>\n",
       "      <td>1</td>\n",
       "      <td>0</td>\n",
       "      <td>3</td>\n",
       "    </tr>\n",
       "  </tbody>\n",
       "</table>\n",
       "</div>"
      ],
      "text/plain": [
       "    SA  SD  SC\n",
       "1    1   0   0\n",
       "2    1   0   0\n",
       "3    0   1   0\n",
       "4    0   1   0\n",
       "5    0   1   0\n",
       "6    0   1   0\n",
       "7    0   1   0\n",
       "8    0   1   0\n",
       "9    0   1   0\n",
       "10   0   1   0\n",
       "11   0   1   0\n",
       "12   0   1   0\n",
       "13   0   1   0\n",
       "14   0   1   0\n",
       "15   1   0   3\n",
       "16   1   0   3"
      ]
     },
     "execution_count": 5,
     "metadata": {},
     "output_type": "execute_result"
    }
   ],
   "source": [
    "import pandas as pd\n",
    "\n",
    "# Initialize an empty resource allocation table\n",
    "days = list(range(1, 17))  # Project duration based on critical path (16 days)\n",
    "resource_allocation = pd.DataFrame(0, index=days, columns=[\"SA\", \"SD\", \"SC\"])\n",
    "\n",
    "# Allocate resources day-by-day based on activity durations and dependencies\n",
    "\n",
    "# Activity A: Days 1-2, requires 1 SA\n",
    "resource_allocation.loc[1:2, \"SA\"] += 1\n",
    "\n",
    "# Activity B: Days 3-12, requires 1 SD\n",
    "resource_allocation.loc[3:12, \"SD\"] += 1\n",
    "\n",
    "# Activity C: Days 13-14, requires 1 SD\n",
    "resource_allocation.loc[13:14, \"SD\"] += 1\n",
    "\n",
    "# Activity D: Days 15-16, requires 1 SC\n",
    "resource_allocation.loc[15:16, \"SC\"] += 1\n",
    "\n",
    "# Activity E: Days 15-17, requires 1 SC\n",
    "resource_allocation.loc[15:17, \"SC\"] += 1\n",
    "\n",
    "# Activity F: Days 15-16, requires 1 SC\n",
    "resource_allocation.loc[15:16, \"SC\"] += 1\n",
    "\n",
    "# Activity G: Days 15-18, requires 1 SA\n",
    "resource_allocation.loc[15:18, \"SA\"] += 1\n",
    "\n",
    "# Display the resource allocation table\n",
    "resource_allocation\n"
   ]
  },
  {
   "cell_type": "code",
   "execution_count": null,
   "id": "45ed37c9",
   "metadata": {},
   "outputs": [],
   "source": []
  },
  {
   "cell_type": "code",
   "execution_count": null,
   "id": "b432ad79",
   "metadata": {},
   "outputs": [],
   "source": []
  },
  {
   "cell_type": "code",
   "execution_count": null,
   "id": "ed7d0058",
   "metadata": {},
   "outputs": [],
   "source": []
  }
 ],
 "metadata": {
  "kernelspec": {
   "display_name": "Python 3 (ipykernel)",
   "language": "python",
   "name": "python3"
  },
  "language_info": {
   "codemirror_mode": {
    "name": "ipython",
    "version": 3
   },
   "file_extension": ".py",
   "mimetype": "text/x-python",
   "name": "python",
   "nbconvert_exporter": "python",
   "pygments_lexer": "ipython3",
   "version": "3.9.12"
  }
 },
 "nbformat": 4,
 "nbformat_minor": 5
}
